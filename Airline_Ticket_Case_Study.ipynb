import pandas as pd
import numpy as np
from matplotlib import pyplot as plt
import seaborn as sns

csv_path = "https://raw.githubusercontent.com/tildataaviation/TIL-DATA-CODEALONG-2023/main/FlightFareData.csv"
df=pd.DataFrame([])
df=pd.read_csv(csv_path)
df.head()

sns.kdeplot(data=df, x="price",hue="class")

price_agg = (df
    .groupby("airline")
    .agg(price=("price", "mean"), n=("airline", "count"))
)
sns.violinplot(data=price_agg,x="price",weights="n")

df1=pd.DataFrame([])
df1=df.groupby(['flight','airline'],as_index=False).count()
df1.airline.value_counts()

plt.figure(figsize=(7,4))
sns.countplot(df1['airline'],palette='pastel')
plt.title('Flights Count for Different Airlines',fontsize=12)
plt.xlabel('Airline',fontsize=12)
plt.ylabel('Count',fontsize=12)
plt.show()

df2=df.groupby(['flight','airline','class'],as_index=False).count()
df2['class'].value_counts()

plt.figure(figsize=(7,5))
plt.pie(df2['class'].value_counts(),autopct='%.2f%%')
plt.axis('equal')
plt.title('Classes of Different Airlines',fontsize=15)
plt.legend(['Economy','Business'])
plt.show()

plt.figure(figsize=(10,5))
sns.boxplot(x='departure_time',y='price',data=df)
plt.title('Departure Time Vs Ticket Price',fontsize=20)
plt.xlabel('Departure Time',fontsize=15)
plt.ylabel('Price',fontsize=15)

plt.figure(figsize=(13,6))
sns.lineplot(data=df,x='days_left',y='price',color='blue')
plt.title('Days Left For Departure Versus Ticket Price',fontsize=20)
plt.xlabel('Days Left for Departure',fontsize=15)
plt.ylabel('Price',fontsize=15)
plt.show()
