{
  "nbformat": 4,
  "nbformat_minor": 0,
  "metadata": {
    "colab": {
      "provenance": [],
      "toc_visible": true
    },
    "kernelspec": {
      "name": "python3",
      "display_name": "Python 3"
    },
    "language_info": {
      "name": "python"
    },
    "accelerator": "GPU",
    "gpuClass": "standard"
  },
  "cells": [
    {
      "cell_type": "markdown",
      "source": [
        "#Airline Fare Case Study"
      ],
      "metadata": {
        "id": "3KYZeIzFRg6r"
      }
    },
    {
      "cell_type": "markdown",
      "source": [
        "## Data Visualization\n",
        "\n",
        "---\n",
        "\n",
        "\n",
        "\n",
        "---\n"
      ],
      "metadata": {
        "id": "5ORylEi9RnTl"
      }
    },
    {
      "cell_type": "code",
      "execution_count": null,
      "metadata": {
        "id": "K-coTzMV7jJL"
      },
      "outputs": [],
      "source": [
        "import pandas as pd\n",
        "import numpy as np\n",
        "from matplotlib import pyplot as plt\n",
        "import seaborn as sns"
      ]
    },
    {
      "cell_type": "code",
      "source": [
        "csv_path = \"https://raw.githubusercontent.com/nidhi440/FlightfareData/main/Clean_Dataset.csv\"\n",
        "df=pd.DataFrame([])\n",
        "df=pd.read_csv(csv_path)\n",
        "df.tail()"
      ],
      "metadata": {
        "id": "ZGAe1cPIAjkZ"
      },
      "execution_count": null,
      "outputs": []
    },
    {
      "cell_type": "code",
      "source": [
        "df1=pd.DataFrame([])\n",
        "df1=df.groupby(['flight','airline'],as_index=False).count()\n",
        "df1.airline.value_counts()"
      ],
      "metadata": {
        "id": "VaFXfP3SAmr4"
      },
      "execution_count": null,
      "outputs": []
    },
    {
      "cell_type": "code",
      "source": [
        "plt.figure(figsize=(7,4))\n",
        "sns.countplot(df1['airline'],palette='pastel')\n",
        "plt.title('Flights Count for Different Airlines',fontsize=12)\n",
        "plt.xlabel('Airline',fontsize=12)\n",
        "plt.ylabel('Count',fontsize=12)\n",
        "plt.show()"
      ],
      "metadata": {
        "id": "iIoZVCXPBJxD"
      },
      "execution_count": null,
      "outputs": []
    },
    {
      "cell_type": "code",
      "source": [
        "df2=df.groupby(['flight','airline','class'],as_index=False).count()\n",
        "df2['class'].value_counts()"
      ],
      "metadata": {
        "id": "bMHZSVFlEGq3"
      },
      "execution_count": null,
      "outputs": []
    },
    {
      "cell_type": "code",
      "source": [
        "plt.figure(figsize=(7,5))\n",
        "plt.pie(df2['class'].value_counts(),autopct='%.2f%%')\n",
        "plt.axis('equal')\n",
        "plt.title('Classes of Different Airlines',fontsize=15)\n",
        "plt.legend(['Economy','Business'])\n",
        "plt.show()"
      ],
      "metadata": {
        "id": "cQOf9QV1GDv0"
      },
      "execution_count": null,
      "outputs": []
    },
    {
      "cell_type": "code",
      "source": [
        "sns.set_style('whitegrid')\n",
        "df3=df.groupby('class')\n",
        "df4 = df3.get_group('Economy')\n",
        "sns.distplot(df4['price'], kde = False, color ='red', bins = 30);"
      ],
      "metadata": {
        "id": "bHYPH9ifLjJ_"
      },
      "execution_count": null,
      "outputs": []
    },
    {
      "cell_type": "code",
      "source": [
        "sns.set_style('whitegrid')\n",
        "df3=df.groupby('class')\n",
        "df4 = df3.get_group('Business')\n",
        "sns.distplot(df4['price'], kde = False, color ='blue', bins = 30);"
      ],
      "metadata": {
        "id": "D8H4xxK-URiT"
      },
      "execution_count": null,
      "outputs": []
    },
    {
      "cell_type": "code",
      "source": [
        "plt.figure(figsize=(10,5))\n",
        "sns.boxplot(x='departure_time',y='price',data=df)\n",
        "plt.title('Departure Time Vs Ticket Price',fontsize=20)\n",
        "plt.xlabel('Departure Time',fontsize=15)\n",
        "plt.ylabel('Price',fontsize=15)"
      ],
      "metadata": {
        "id": "SLYYDi_nP0Qf"
      },
      "execution_count": null,
      "outputs": []
    },
    {
      "cell_type": "code",
      "source": [
        "plt.figure(figsize=(13,6))\n",
        "sns.lineplot(data=df,x='days_left',y='price',color='blue')\n",
        "plt.title('Days Left For Departure Versus Ticket Price',fontsize=20)\n",
        "plt.xlabel('Days Left for Departure',fontsize=15)\n",
        "plt.ylabel('Price',fontsize=15)\n",
        "plt.show()\n"
      ],
      "metadata": {
        "id": "n4jP4TXEQKHz"
      },
      "execution_count": null,
      "outputs": []
    },
    {
      "cell_type": "markdown",
      "source": [
        "## GPU Setup\n",
        "\n",
        "---\n",
        "\n",
        "\n",
        "\n",
        "---\n"
      ],
      "metadata": {
        "id": "GoQIMWaMm-JI"
      }
    },
    {
      "cell_type": "code",
      "source": [
        "!nvidia-smi"
      ],
      "metadata": {
        "id": "CnhylZF3so-H"
      },
      "execution_count": null,
      "outputs": []
    },
    {
      "cell_type": "markdown",
      "source": [
        "## Deep Learning / Neural Network\n",
        "\n",
        "---\n",
        "\n",
        "\n",
        "\n",
        "---\n",
        "\n"
      ],
      "metadata": {
        "id": "bTrzRJEO7aqe"
      }
    },
    {
      "cell_type": "markdown",
      "source": [
        "###View the data again"
      ],
      "metadata": {
        "id": "m7PRePdFZUh3"
      }
    },
    {
      "cell_type": "code",
      "source": [
        "csv_path = \"https://raw.githubusercontent.com/nidhi440/FlightfareData/main/Clean_Dataset.csv\"\n",
        "df=pd.DataFrame([])\n",
        "df=pd.read_csv(csv_path)\n",
        "df.sample(30)"
      ],
      "metadata": {
        "id": "mkUndhlr8xM4"
      },
      "execution_count": null,
      "outputs": []
    },
    {
      "cell_type": "markdown",
      "source": [
        "### Clean up the data for better performance"
      ],
      "metadata": {
        "id": "54CSW2MvZZ3m"
      }
    },
    {
      "cell_type": "code",
      "source": [
        "# convert column \"stops\" into numeric\n",
        "def mapper(x): \n",
        "    if(x=='zero'):\n",
        "        return 0\n",
        "    elif(x=='one'):\n",
        "        return 1\n",
        "    else:\n",
        "        return 2\n",
        "\n",
        "df['stops']=df['stops'].apply(mapper)\n",
        "\n",
        "df[['stops']].value_counts()"
      ],
      "metadata": {
        "id": "hDrggd9-Z2wu"
      },
      "execution_count": null,
      "outputs": []
    },
    {
      "cell_type": "code",
      "source": [
        "# Convert duration (hr format) into min format\n",
        "df['duration']=df['duration'].apply(lambda x: int(round(x*60)))\n",
        "\n",
        "df['duration'].sample(5)"
      ],
      "metadata": {
        "id": "oipN0SD9ahOW"
      },
      "execution_count": null,
      "outputs": []
    },
    {
      "cell_type": "code",
      "source": [
        "# other columns that need encode:\n",
        "for col in df.select_dtypes(include='object').columns:\n",
        "    print(f\"{col:25} ---> {df[col].nunique():15} unique values\")"
      ],
      "metadata": {
        "id": "Rh-HR02Db-0z"
      },
      "execution_count": null,
      "outputs": []
    },
    {
      "cell_type": "code",
      "source": [
        "df=df.drop(['Unnamed: 0','flight'],axis=1)\n",
        "df.sample(10)"
      ],
      "metadata": {
        "id": "2TNl2WyTdx2t"
      },
      "execution_count": null,
      "outputs": []
    },
    {
      "cell_type": "code",
      "source": [
        "from sklearn.preprocessing import OneHotEncoder\n",
        "\n",
        "from sklearn.compose import ColumnTransformer, make_column_selector"
      ],
      "metadata": {
        "id": "3D4C2O5ReK1E"
      },
      "execution_count": null,
      "outputs": []
    },
    {
      "cell_type": "code",
      "source": [
        "oh = OneHotEncoder(drop='first',handle_unknown='ignore')\n",
        "# example: airline_Vistara, airline_Indigo, airline_AirAsia\n",
        "#          [      0       ,        1      ,        0      ]\n",
        "\n",
        "ct = ColumnTransformer([\n",
        "    (\"cat_encoder\",oh,make_column_selector(dtype_include='object'))\n",
        "],remainder='passthrough')"
      ],
      "metadata": {
        "id": "5on792eVel6x"
      },
      "execution_count": null,
      "outputs": []
    },
    {
      "cell_type": "markdown",
      "source": [
        "### Create train set & test set"
      ],
      "metadata": {
        "id": "eHmUV7d2gksu"
      }
    },
    {
      "cell_type": "code",
      "source": [
        "# X - independent features(excluding target variable)\n",
        "X = df.drop([\"price\"], axis = 1)\n",
        "\n",
        "# y - dependent variables, called (target)\n",
        "y = df[['price']]"
      ],
      "metadata": {
        "id": "3MJpDnY0eshu"
      },
      "execution_count": null,
      "outputs": []
    },
    {
      "cell_type": "code",
      "source": [
        "from sklearn.model_selection import train_test_split\n",
        "\n",
        "# split data into train and test sets\n",
        "X_train, X_test, y_train, y_test = train_test_split(X,y,test_size=0.1,random_state=10)"
      ],
      "metadata": {
        "id": "vPvZ-H7QhOHi"
      },
      "execution_count": null,
      "outputs": []
    },
    {
      "cell_type": "code",
      "source": [
        "X_train = ct.fit_transform(X_train)\n",
        "X_test = ct.transform(X_test)"
      ],
      "metadata": {
        "id": "k1ENQ9rHhyL7"
      },
      "execution_count": null,
      "outputs": []
    },
    {
      "cell_type": "code",
      "source": [
        "X_train.shape, y_train.shape, X_test.shape, y_test.shape"
      ],
      "metadata": {
        "id": "Q1EiglQIiJ5N"
      },
      "execution_count": null,
      "outputs": []
    },
    {
      "cell_type": "code",
      "source": [
        "X_test[0].toarray(), y_test.head(1).values"
      ],
      "metadata": {
        "id": "eB-aI35ckDeW"
      },
      "execution_count": null,
      "outputs": []
    },
    {
      "cell_type": "markdown",
      "source": [
        "### Set up data in batches"
      ],
      "metadata": {
        "id": "v6M2fRlElOcH"
      }
    },
    {
      "cell_type": "code",
      "source": [
        "import tensorflow as tf\n",
        "\n",
        "batch_size=256 # batch size to be fed\n",
        "\n",
        "def convert_sparse_matrix_to_sparse_tensor(X):\n",
        "    coo = X.tocoo()\n",
        "    indices = np.mat([coo.row, coo.col]).transpose()\n",
        "    return tf.sparse.reorder(tf.SparseTensor(indices, coo.data, coo.shape))\n",
        "\n",
        "X_train=convert_sparse_matrix_to_sparse_tensor(X_train)\n",
        "X_test=convert_sparse_matrix_to_sparse_tensor(X_test)\n",
        "\n",
        "# train data\n",
        "data_tf_tr=tf.data.Dataset.from_tensor_slices((X_train, y_train))\n",
        "data_tr_batches = data_tf_tr.batch(batch_size).cache().prefetch(tf.data.AUTOTUNE)\n",
        "\n",
        "# test data\n",
        "data_tf_te=tf.data.Dataset.from_tensor_slices((X_test, y_test))\n",
        "data_te_batches = data_tf_te.batch(batch_size).cache().prefetch(tf.data.AUTOTUNE)\n",
        "\n",
        "#test result data\n",
        "data_tf_tre=tf.data.Dataset.from_tensor_slices(X_test)\n",
        "data_tre_batches = data_tf_tre.batch(batch_size).cache().prefetch(tf.data.AUTOTUNE)"
      ],
      "metadata": {
        "id": "N0cjuxROkwZT"
      },
      "execution_count": null,
      "outputs": []
    },
    {
      "cell_type": "markdown",
      "source": [
        "### Create Neural Network"
      ],
      "metadata": {
        "id": "BZNbdgWOmTWe"
      }
    },
    {
      "cell_type": "code",
      "source": [
        "from tensorflow.keras.models import Sequential\n",
        "from tensorflow.keras.layers import Dense,Dropout,Input\n",
        "from tensorflow.keras.callbacks import EarlyStopping"
      ],
      "metadata": {
        "id": "7Fga-0ngmS0x"
      },
      "execution_count": null,
      "outputs": []
    },
    {
      "cell_type": "code",
      "source": [
        "X_train.shape[1]"
      ],
      "metadata": {
        "id": "kqZpwoD4pupB"
      },
      "execution_count": null,
      "outputs": []
    },
    {
      "cell_type": "code",
      "source": [
        "model = Sequential(); # we also have Functional API and multi-inputs multi-outputs API\n",
        "\n",
        "#Input Layer\n",
        "model.add(Input(shape=(X_train.shape[1],), sparse=True))\n",
        "\n",
        "#Hidden Layer\n",
        "for counter in range(1,9):\n",
        "    model.add(Dense(8*X_train.shape[1],activation='relu'))\n",
        "    if(counter%4==0):\n",
        "        model.add(Dropout(0.75))\n",
        "\n",
        "#Output Layer\n",
        "model.add(Dense(1))\n",
        "\n",
        "model.compile(loss='mean_squared_error',\n",
        "              optimizer='adam',\n",
        "              metrics = 'mean_absolute_error');"
      ],
      "metadata": {
        "id": "EHeqDZc5lfXW"
      },
      "execution_count": null,
      "outputs": []
    },
    {
      "cell_type": "markdown",
      "source": [
        "### Try your own Neural Network"
      ],
      "metadata": {
        "id": "PfdnzSsqmglA"
      }
    },
    {
      "cell_type": "code",
      "source": [],
      "metadata": {
        "id": "ZFWmm3OfsQuA"
      },
      "execution_count": null,
      "outputs": []
    },
    {
      "cell_type": "markdown",
      "source": [
        "### Train the model"
      ],
      "metadata": {
        "id": "w1KcPpsWoZAH"
      }
    },
    {
      "cell_type": "code",
      "source": [
        "from tensorflow.keras.callbacks import EarlyStopping\n",
        "\n",
        "e=EarlyStopping(patience=5,restore_best_weights=True,verbose=1)"
      ],
      "metadata": {
        "id": "dcseiImtpHJD"
      },
      "execution_count": null,
      "outputs": []
    },
    {
      "cell_type": "code",
      "source": [
        "%%time\n",
        "history=model.fit(data_tr_batches,epochs=60,callbacks=[e],verbose=1)"
      ],
      "metadata": {
        "id": "t31D57yfkgAQ"
      },
      "execution_count": null,
      "outputs": []
    },
    {
      "cell_type": "markdown",
      "source": [
        "### Visualize training outcomes"
      ],
      "metadata": {
        "id": "iWvVTqEdoljE"
      }
    },
    {
      "cell_type": "code",
      "source": [
        "d1=pd.DataFrame(history.history)\n",
        "d1.plot(figsize=(8,8))"
      ],
      "metadata": {
        "id": "zlufRlR5r_t6"
      },
      "execution_count": null,
      "outputs": []
    },
    {
      "cell_type": "markdown",
      "source": [
        "### Test the model using test set"
      ],
      "metadata": {
        "id": "ZFKGprrQqMLU"
      }
    },
    {
      "cell_type": "code",
      "source": [
        "model.evaluate(data_te_batches)"
      ],
      "metadata": {
        "id": "lnRkxEBnrWKh"
      },
      "execution_count": null,
      "outputs": []
    },
    {
      "cell_type": "code",
      "source": [
        "pred1=model.predict(X_test)\n",
        "\n",
        "# visualize the differentbetween actual price and predicted price\n",
        "res=pd.DataFrame({\"pred\":pred1.ravel(),\"y_test\":y_test.values.ravel(),\"diff\":abs(pred1.ravel()-y_test.values.ravel())})\n",
        "\n",
        "plt.figure(figsize=(25,8));\n",
        "sns.lineplot(data=res['diff']);"
      ],
      "metadata": {
        "id": "Fwq017VvqK4b"
      },
      "execution_count": null,
      "outputs": []
    }
  ]
}